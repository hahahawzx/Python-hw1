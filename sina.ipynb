{
 "cells": [
  {
   "cell_type": "code",
   "execution_count": 1,
   "metadata": {},
   "outputs": [],
   "source": [
    "import requests # 用于请求\n",
    "from bs4 import BeautifulSoup as BS # 用于找到东西\n",
    "from time import sleep # 用于放慢速度\n",
    "from fake_useragent import UserAgent # 用于生成随机UserAgent\n",
    "import re #用于正则表达式\n",
    "import json #用于json解析\n",
    "import re #正则表达式"
   ]
  },
  {
   "cell_type": "markdown",
   "metadata": {},
   "source": [
    "# wanna get the url"
   ]
  },
  {
   "cell_type": "code",
   "execution_count": 22,
   "metadata": {},
   "outputs": [],
   "source": [
    "num = 0\n",
    "url = f\"https://feed.mix.sina.com.cn/api/roll/get?pageid=372&lid=2431&k=&num=50&page={num}&r=0.3823521415001323&callback=jQuery111207971611566913344_1693192765363&_=1693192765366\"\n",
    "user_agent = UserAgent()\n",
    "random_user_agent = user_agent.random\n",
    "headers_1 = {\n",
    "    \"User-Agent\": random_user_agent,\n",
    "}\n"
   ]
  },
  {
   "cell_type": "code",
   "execution_count": 30,
   "metadata": {},
   "outputs": [
    {
     "name": "stdout",
     "output_type": "stream",
     "text": [
      "50\n",
      "100\n",
      "150\n",
      "200\n",
      "250\n",
      "300\n",
      "350\n",
      "400\n",
      "450\n",
      "500\n",
      "550\n",
      "600\n",
      "650\n",
      "700\n",
      "750\n",
      "800\n",
      "850\n",
      "900\n",
      "950\n",
      "1000\n",
      "1050\n",
      "1100\n",
      "1150\n",
      "1200\n",
      "1250\n",
      "1300\n",
      "1350\n",
      "1400\n",
      "1450\n",
      "1500\n",
      "1550\n",
      "1600\n",
      "1650\n",
      "1700\n",
      "1750\n",
      "1800\n",
      "1850\n",
      "1900\n",
      "1950\n",
      "2000\n",
      "2050\n",
      "2100\n",
      "2150\n",
      "2200\n",
      "2250\n",
      "2300\n",
      "2350\n",
      "2400\n",
      "2450\n",
      "没有爬取到新东西\n",
      "2450\n"
     ]
    }
   ],
   "source": [
    "url_list = set()\n",
    "flag = 0\n",
    "num = 1\n",
    "while len(url_list)<6000 and num<1000:\n",
    "    num = num+1\n",
    "    url = f\"https://feed.mix.sina.com.cn/api/roll/get?pageid=372&lid=2431&k=&num=50&page={num}&r=0.3823521415001323&callback=jQuery111207971611566913344_1693192765363&_=1693192765366\"\n",
    "    response=requests.get(url,headers_1)\n",
    "    if response.status_code == 200: \n",
    "        patterns = r'\"url\":\"(https:\\\\\\/\\\\\\/[^\"]+\\.shtml)\"'\n",
    "        matches = re.findall(patterns, response.text)\n",
    "        for match in matches:\n",
    "            match=match.replace(\"\\\\\",\"\")\n",
    "            url_list.add(match)\n",
    "    else:\n",
    "        print(\"there is wrong\")\n",
    "        break\n",
    "    if flag == len(url_list):\n",
    "        print(\"没有爬取到新东西\")\n",
    "        break\n",
    "    else:\n",
    "        flag = len(url_list)\n",
    "        print(flag)\n",
    "\n",
    "print(len(url_list))"
   ]
  },
  {
   "cell_type": "code",
   "execution_count": 43,
   "metadata": {},
   "outputs": [
    {
     "name": "stdout",
     "output_type": "stream",
     "text": [
      "正在爬2023-08-27的消息\n",
      "https://feed.mix.sina.com.cn/api/roll/get?pageid=372&lid=2431&etime=1693065600&stime=1693152000&ctime=1693152000&date=2023-08-27&k=&num=50&page=1&r=0.11847647285867047&callback=jQuery111207471771617184421_1693199686303&_=1693199686304\n",
      "2\n",
      "https://feed.mix.sina.com.cn/api/roll/get?pageid=372&lid=2431&etime=1693065600&stime=1693152000&ctime=1693152000&date=2023-08-27&k=&num=50&page=2&r=0.11847647285867047&callback=jQuery111207471771617184421_1693199686303&_=1693199686304\n",
      "没有爬取到新东西\n",
      "正在爬2023-08-26的消息\n",
      "https://feed.mix.sina.com.cn/api/roll/get?pageid=372&lid=2431&etime=1692979200&stime=1693065600&ctime=1693065600&date=2023-08-26&k=&num=50&page=1&r=0.11847647285867047&callback=jQuery111207471771617184421_1693199686303&_=1693199686304\n",
      "3\n",
      "https://feed.mix.sina.com.cn/api/roll/get?pageid=372&lid=2431&etime=1692979200&stime=1693065600&ctime=1693065600&date=2023-08-26&k=&num=50&page=2&r=0.11847647285867047&callback=jQuery111207471771617184421_1693199686303&_=1693199686304\n",
      "没有爬取到新东西\n",
      "正在爬2023-08-25的消息\n",
      "https://feed.mix.sina.com.cn/api/roll/get?pageid=372&lid=2431&etime=1692892800&stime=1692979200&ctime=1692979200&date=2023-08-25&k=&num=50&page=1&r=0.11847647285867047&callback=jQuery111207471771617184421_1693199686303&_=1693199686304\n",
      "41\n",
      "https://feed.mix.sina.com.cn/api/roll/get?pageid=372&lid=2431&etime=1692892800&stime=1692979200&ctime=1692979200&date=2023-08-25&k=&num=50&page=2&r=0.11847647285867047&callback=jQuery111207471771617184421_1693199686303&_=1693199686304\n",
      "没有爬取到新东西\n",
      "{'https://finance.sina.com.cn/jjxw/2023-08-25/doc-imzimkcv6400959.shtml', 'https://finance.sina.com.cn/tech/elec/2023-08-25/doc-imzikxqf5583475.shtml', 'https://finance.sina.com.cn/tech/it/2023-08-25/doc-imzikxpz6570051.shtml', 'https://finance.sina.com.cn/tech/it/2023-08-25/doc-imzimkcz5414896.shtml', 'https://finance.sina.com.cn/tech/csj/2023-08-25/doc-imzimcvx6502551.shtml', 'https://finance.sina.com.cn/tech/elec/xpfb/2023-08-27/doc-imzimcwc5510458.shtml', 'https://finance.sina.com.cn/stock/relnews/us/2023-08-25/doc-imzikthf8878875.shtml', 'https://finance.sina.com.cn/tech/csj/2023-08-25/doc-imziknyi8987239.shtml', 'https://finance.sina.com.cn/stock/hkstock/2023-08-25/doc-imziknyf6757412.shtml', 'https://finance.sina.com.cn/tob/2023-08-25/doc-imzikakp9176127.shtml', 'https://finance.sina.com.cn/tech/csj/2023-08-25/doc-imzimcvx6495770.shtml', 'https://finance.sina.com.cn/tech/roll/2023-08-25/doc-imzikxpy1264700.shtml', 'https://finance.sina.com.cn/stock/relnews/cn/2023-08-25/doc-imziknym5782968.shtml', 'https://finance.sina.com.cn/china/2023-08-25/doc-imziknye1466883.shtml', 'https://finance.sina.com.cn/tech/csj/2023-08-25/doc-imzimcvw1173217.shtml', 'https://finance.sina.com.cn/tech/roll/2023-08-25/doc-imzikthi5659283.shtml', 'https://finance.sina.com.cn/stock/usstock/c/2023-08-26/doc-imzinfip8221705.shtml', 'https://finance.sina.com.cn/tech/it/2023-08-25/doc-imzikhsm9090063.shtml', 'https://finance.sina.com.cn/tech/roll/2023-08-25/doc-imziktha1341487.shtml', 'https://finance.sina.com.cn/jjxw/2023-08-27/doc-imziqqqi4713027.shtml', 'https://finance.sina.com.cn/tech/csj/2023-08-25/doc-imziknye1455314.shtml', 'https://finance.sina.com.cn/stock/hkstock/ggscyd/2023-08-25/doc-imziktha1346109.shtml', 'https://finance.sina.com.cn/tech/csj/2023-08-25/doc-imziknyi8975211.shtml', 'https://finance.sina.com.cn/tech/csj/2023-08-25/doc-imzimcvx6466887.shtml', 'https://finance.sina.com.cn/tech/csj/2023-08-25/doc-imziknyf6769104.shtml', 'https://finance.sina.com.cn/tech/2023-08-25/doc-imziknye1447536.shtml', 'https://finance.sina.com.cn/stock/usstock/c/2023-08-25/doc-imzimcwc5497874.shtml', 'https://finance.sina.com.cn/tech/it/2023-08-25/doc-imzikxqc8811521.shtml', 'https://finance.sina.com.cn/tech/elec/xpfb/2023-08-25/doc-imzihizi9962644.shtml', 'https://finance.sina.com.cn/tech/csj/2023-08-25/doc-imziknyi8974597.shtml', 'https://finance.sina.com.cn/tech/csj/2023-08-25/doc-imziknym5761431.shtml', 'https://finance.sina.com.cn/tech/csj/2023-08-25/doc-imziknye1448932.shtml', 'https://finance.sina.com.cn/tech/it/2023-08-25/doc-imzimkcu1083813.shtml', 'https://finance.sina.com.cn/jjxw/2023-08-25/doc-imzimkcu1059894.shtml', 'https://finance.sina.com.cn/tech/csj/2023-08-25/doc-imziknye1442274.shtml', 'https://finance.sina.com.cn/tech/it/2023-08-25/doc-imzikxpz6577119.shtml', 'https://finance.sina.com.cn/stock/usstock/c/2023-08-25/doc-imzimcvz8711542.shtml', 'https://finance.sina.com.cn/tech/it/2023-08-25/doc-imzikxqf5560054.shtml', 'https://finance.sina.com.cn/tech/it/2023-08-27/doc-imzirwka1153968.shtml', 'https://finance.sina.com.cn/tech/it/2023-08-25/doc-imzimkcx8620459.shtml', 'https://finance.sina.com.cn/tech/csj/2023-08-25/doc-imzimcvw1144525.shtml'}\n",
      "2450\n"
     ]
    }
   ],
   "source": [
    "def get_url(num:int):\n",
    "    flag = 0\n",
    "    time = 1693152000 + 86400\n",
    "    day = 28\n",
    "    month = 8\n",
    "    page = 1\n",
    "    url_list_2 = set()\n",
    "    while len(url_list_2)<num:\n",
    "        day = day - 1\n",
    "        time = time - 86400\n",
    "        if day == 0:\n",
    "            month = month - 1\n",
    "            if month ==7 or month == 5 or month ==3 or month ==1:\n",
    "                day = 31\n",
    "            elif month == 6 or month ==4:\n",
    "                day =30\n",
    "            elif month ==2:\n",
    "                day = 28\n",
    "            else:\n",
    "                print(\"2023一年的过完了\")\n",
    "                break\n",
    "        page = 0\n",
    "        print(f\"正在爬2023-0{month}-{day}的消息\")\n",
    "        while True:\n",
    "            page = page+1\n",
    "            url_data = f\"https://feed.mix.sina.com.cn/api/roll/get?pageid=372&lid=2431&etime={time - 86400}&stime={time}&ctime={time}&date=2023-0{month}-{day}&k=&num=50&page={page}&r=0.11847647285867047&callback=jQuery111207471771617184421_1693199686303&_=1693199686304\"\n",
    "            print(url_data)\n",
    "            response=requests.get(url_data,headers_1)\n",
    "            if response.status_code == 200: \n",
    "                patterns = r'\"url\":\"(https:\\\\\\/\\\\\\/[^\"]+\\.shtml)\"'\n",
    "                matches = re.findall(patterns, response.text)\n",
    "                for match in matches:\n",
    "                    match=match.replace(\"\\\\\",\"\")\n",
    "                    url_list_2.add(match)\n",
    "            else:\n",
    "                print(\"there is wrong\")\n",
    "                break\n",
    "            if flag == len(url_list_2):\n",
    "                print(\"没有爬取到新东西\")\n",
    "                break\n",
    "            else:\n",
    "                flag = len(url_list_2)\n",
    "                print(flag)\n",
    "    return url_list_2            \n",
    "url =  get_url(20)   \n",
    "with open('url.txt', 'w') as file:\n",
    "    for item in url:\n",
    "        file.write(str(item) + '\\n')   \n"
   ]
  },
  {
   "cell_type": "code",
   "execution_count": 38,
   "metadata": {},
   "outputs": [
    {
     "name": "stdout",
     "output_type": "stream",
     "text": [
      "6015\n"
     ]
    }
   ],
   "source": []
  },
  {
   "cell_type": "code",
   "execution_count": 39,
   "metadata": {},
   "outputs": [],
   "source": []
  }
 ],
 "metadata": {
  "kernelspec": {
   "display_name": "Python_Summer",
   "language": "python",
   "name": "python3"
  },
  "language_info": {
   "codemirror_mode": {
    "name": "ipython",
    "version": 3
   },
   "file_extension": ".py",
   "mimetype": "text/x-python",
   "name": "python",
   "nbconvert_exporter": "python",
   "pygments_lexer": "ipython3",
   "version": "3.10.12"
  },
  "orig_nbformat": 4
 },
 "nbformat": 4,
 "nbformat_minor": 2
}
