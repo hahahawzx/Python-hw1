{
 "cells": [
  {
   "cell_type": "code",
   "execution_count": 3,
   "metadata": {},
   "outputs": [
    {
     "name": "stdout",
     "output_type": "stream",
     "text": [
      "2023-04-23\n"
     ]
    }
   ],
   "source": [
    "import json\n",
    "import re\n",
    "# 打开文件并读取内容\n",
    "with open('1.json', 'r') as file:\n",
    "    date = json.load(file)\n",
    "data_pattern = r'/(\\d{4}-\\d{2}-\\d{2})/'\n",
    "match = re.search(data_pattern, date['urls']['webpage'])\n",
    "if match:\n",
    "    date['details']['creation_time'] = match.group(1)\n",
    "    print(date['details']['creation_time'])\n",
    "else:\n",
    "    print(\"failed\")\n",
    "# 现在 `data` 变量中包含了 JSON 文件中的数据\n"
   ]
  }
 ],
 "metadata": {
  "kernelspec": {
   "display_name": "Python_Summer",
   "language": "python",
   "name": "python3"
  },
  "language_info": {
   "codemirror_mode": {
    "name": "ipython",
    "version": 3
   },
   "file_extension": ".py",
   "mimetype": "text/x-python",
   "name": "python",
   "nbconvert_exporter": "python",
   "pygments_lexer": "ipython3",
   "version": "3.10.12"
  },
  "orig_nbformat": 4
 },
 "nbformat": 4,
 "nbformat_minor": 2
}
